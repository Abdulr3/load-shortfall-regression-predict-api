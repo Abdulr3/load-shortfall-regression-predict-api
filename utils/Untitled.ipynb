{
 "cells": [
  {
   "cell_type": "code",
   "execution_count": 1,
   "id": "3da33f94",
   "metadata": {},
   "outputs": [
    {
     "name": "stdout",
     "output_type": "stream",
     "text": [
      "Training Model...\n",
      "[[ 8753.15781153]\n",
      " [ 8746.17769949]\n",
      " [ 9284.87936798]\n",
      " ...\n",
      " [10441.90630084]\n",
      " [10029.67644319]\n",
      " [10018.44044936]]\n",
      "Training completed. Saving model to: ../assets/trained-models/load_shortfall_simple_lm_regression.pkl\n"
     ]
    }
   ],
   "source": [
    "\"\"\"\n",
    "    Simple file to create a sklearn model for deployment in our API\n",
    "\n",
    "    Author: Explore Data Science Academy\n",
    "\n",
    "    Description: This script is responsible for training a simple linear\n",
    "    regression model which is used within the API for initial demonstration\n",
    "    purposes.\n",
    "\n",
    "\"\"\"\n",
    "\n",
    "# Dependencies\n",
    "import pandas as pd\n",
    "import pickle\n",
    "from sklearn.linear_model import LinearRegression\n",
    "\n",
    "# Fetch training data and preprocess for modeling\n",
    "train = pd.read_csv('./data/df_train.csv')\n",
    "\n",
    "y_train = train[['load_shortfall_3h']]\n",
    "X_train = train[['Valencia_temp','Seville_temp','Barcelona_temp','Bilbao_temp','Madrid_temp']]\n",
    "\n",
    "# Fit model\n",
    "lm_regression = LinearRegression(normalize=True)\n",
    "print (\"Training Model...\")\n",
    "lm_regression.fit(X_train, y_train)\n",
    "print(lm_regression.predict(X_train))\n",
    "\n",
    "# Pickle model for use within our API\n",
    "save_path = '../assets/trained-models/load_shortfall_simple_lm_regression.pkl'\n",
    "print (f\"Training completed. Saving model to: {save_path}\")\n",
    "pickle.dump(lm_regression, open(save_path,'wb'))\n"
   ]
  },
  {
   "cell_type": "code",
   "execution_count": null,
   "id": "db2551bc",
   "metadata": {},
   "outputs": [],
   "source": []
  },
  {
   "cell_type": "code",
   "execution_count": null,
   "id": "d9759baf",
   "metadata": {},
   "outputs": [],
   "source": []
  }
 ],
 "metadata": {
  "kernelspec": {
   "display_name": "Python 3 (ipykernel)",
   "language": "python",
   "name": "python3"
  },
  "language_info": {
   "codemirror_mode": {
    "name": "ipython",
    "version": 3
   },
   "file_extension": ".py",
   "mimetype": "text/x-python",
   "name": "python",
   "nbconvert_exporter": "python",
   "pygments_lexer": "ipython3",
   "version": "3.9.7"
  }
 },
 "nbformat": 4,
 "nbformat_minor": 5
}
